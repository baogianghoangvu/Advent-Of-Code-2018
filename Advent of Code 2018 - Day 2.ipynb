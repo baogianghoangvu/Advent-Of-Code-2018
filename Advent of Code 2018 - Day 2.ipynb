{
 "cells": [
  {
   "cell_type": "code",
   "execution_count": 1,
   "metadata": {
    "ExecuteTime": {
     "end_time": "2018-12-08T18:58:12.096780Z",
     "start_time": "2018-12-08T18:58:12.010859Z"
    }
   },
   "outputs": [],
   "source": [
    "import numpy as np\n",
    "from collections import Counter"
   ]
  },
  {
   "cell_type": "code",
   "execution_count": 2,
   "metadata": {
    "ExecuteTime": {
     "end_time": "2018-12-08T18:58:12.231391Z",
     "start_time": "2018-12-08T18:58:12.098624Z"
    },
    "code_folding": []
   },
   "outputs": [],
   "source": [
    "puzzle_input = [\n",
    "    'wlpiogsvdfecjdqmnxakudrhbz', 'wbpioesvyfecjuqmlxaktdrhbz',\n",
    "    'blviogavyfecjuqmnxaktdrhbz', 'wlpiogsvydecjuqmnipktdrhbz',\n",
    "    'wlwiogsvyfmcjuqmoxaktdrhbz', 'wlpiogsvphecjuqmnxaktdrzbz',\n",
    "    'wlpiogsvyfecjuqmnkakhdrkbz', 'wlpiogsvyfhcjuqmnxxktddhbz',\n",
    "    'wlpiogsvyfccfuqmnxgktdrhbz', 'wlpiogsvhmecjvqmnxaktdrhbz',\n",
    "    'wlpiogsvyfecjdqqnxaktdrhyz', 'wlpiogyvycecjaqmnxaktdrhbz',\n",
    "    'wlpiogsvyfecjfqmnxaktybhbz', 'wkpiogsvyfmcauqmnxaktdrhbz',\n",
    "    'wlmiolsvyfecjuqmnxaktdrhbn', 'wlpioksvyfecjuqmnxaktdrhgs',\n",
    "    'wlpiogsvyflcjuvmnxsktdrhbz', 'wgziogsvyfecjuqmnxaktdrhoz',\n",
    "    'whpingsvyeecjuqmnxaktdrhbz', 'wlpiogsvyfecjuqgnxaktdvhlz',\n",
    "    'wlpioasvtfecjuqmnxaktdahbz', 'wlpihgsvefeceuqmnxaktdrhbz',\n",
    "    'wlpiogsvyfecyuqwnxaktdghbz', 'wlpfsgsvyfhcjuqmnxaktdrhbz',\n",
    "    'wlpiogyvyfecjuqmnxalpdrhbz', 'wlpiogsvyfescsqmnxaktdrhbz',\n",
    "    'wluiogsvyfecytqmnxaktdrhbz', 'wltiorsvyfecjuqmoxaktdrhbz',\n",
    "    'wlmiogwvyfejjuqmnxaktdrhbz', 'wlpiogsvyfycjuumnxvktdrhbz',\n",
    "    'wlkiogsqyfecjqqmnxaktdrhbz', 'wlpiogsvyfecouqmnxaktfrubz',\n",
    "    'hupiogsvlfecjuqmnxaktdrhbz', 'wlpiogsvpxecjuqmnxaksdrhbz',\n",
    "    'wlpiogsvyfkcjfqmnxxktdrhbz', 'wlpiogsjyfecjuqnnxakthrhbz',\n",
    "    'wlpiogsvyfecjuqmnxaktddhdk', 'wlpipgsvyfecjuqmnhaktdrubz',\n",
    "    'wlpiogsoyfenjpqmnxaktdrhbz', 'wlpiogsvyfecnuqmnxaxtdrmbz',\n",
    "    'wlpiggsvyfjcjuumnxaktdrhbz', 'wlppogsvyfecjuqmnxautdhhbz',\n",
    "    'wlpiovbvyfecjuqmnxaktcrhbz', 'wlpiogsvyfecjoqmnxaktdrobu',\n",
    "    'wlpiohsvyfecjugmnxakthrhbz', 'wvpiogovyfecjuqmnxakwdrhbz',\n",
    "    'wlpiogsbyfecjuqmnxdktdrtbz', 'wlpnogsvyfecjuqmnxakykrhbz',\n",
    "    'wlpiogpvyfecjuqmnxvktdrhbs', 'wlpiogsvkvecjuqmnxadtdrhbz',\n",
    "    'wlkihgsvyfecjuqmnxlktdrhbz', 'wlpilgsvyfhcjuqmnxakudrhbz',\n",
    "    'wlpioksvysgcjuqmnxaktdrhbz', 'wlpiogsvyfecorqmoxaktdrhbz',\n",
    "    'wlpiogsvyfectzlmnxaktdrhbz', 'wlpiogsvywecjuqwnqaktdrhbz',\n",
    "    'wlpiowsvyfecjuqrnxaftdrhbz', 'wlpiogsuyfecjutmnxaktnrhbz',\n",
    "    'wepiowsvyfqcjuqmnxaktdrhbz', 'wlpirgssyfecjuqmvxaktdrhbz',\n",
    "    'wlyiogstyfecjuqmnxaktdrhbw', 'wlpiogseyfecauqmnxaktdjhbz',\n",
    "    'wlpioisvyfenjuqmnxakrdrhbz', 'wlpiogsvyfrgjfqmnxaktdrhbz',\n",
    "    'wlpionsvyfecjmqmjxaktdrhbz', 'alpiggsvyfecjuqmnxaktdrhkz',\n",
    "    'wlphngsvyfecjuqmnxfktdrhbz', 'wlpiogsvyferjuqmlxakttrhbz',\n",
    "    'wlniogsvefecjuqsnxaktdrhbz', 'wlpiogsvyfncjurmnxakudrhbz',\n",
    "    'wlpiogsvyfecjuqmnxaktprlaz', 'wlpiocsvyfecjupmkxaktdrhbz',\n",
    "    'wlpihgsvyfecjeqfnxaktdrhbz', 'wlwioasvyfjcjuqmnxaktdrhbz',\n",
    "    'wlpifgsvyfecjuqsnxaktdshbz', 'wlxiogsvyrechuqmnxaktdrhbz',\n",
    "    'wlpiogovyfxcjuqmnxakkdrhbz', 'wlpiogsvyfecjkqmdxaktmrhbz',\n",
    "    'wlpiogsvyfecjwqmntaktdhhbz', 'wlpiogsvdfecjuqmmxaktbrhbz',\n",
    "    'wlpiogsvyfecauqmnxaksdrhwz', 'wlpiogsvwfecjuqznxaktorhbz',\n",
    "    'wlpiogtvyfecjuqhnxakidrhbz', 'wlpiogsvyyecjuqmnxaktdrhwt',\n",
    "    'wljiogsvyfecfuqbnxaktdrhbz', 'wlpiogsvybecjuqmnxagtdrjbz',\n",
    "    'wrpiogsvyfecjuqmnuaktdrhbd', 'wlpiogsvyfecjurmnxnltdrhbz',\n",
    "    'blpvogsvyaecjuqmnxaktdrhbz', 'bfpiogyvyfecjuqmnxaktdrhbz',\n",
    "    'wlpiogsvyfecjuqinxaknddhbz', 'wlpizgsvvfecjuqxnxaktdrhbz',\n",
    "    'glpiogsvyrecjuqmnxaktdrhbr', 'wlpiogskhfecjutmnxaktdrhbz',\n",
    "    'wlpiogsvyfecmuqmnxaktdribc', 'wlpioesvwfecjuqmnxakkdrhbz',\n",
    "    'wlpionsrafecjuqmnxaktdrhbz', 'wlsiogsvyfecjuqmnaaktdrhvz',\n",
    "    'bloiogsvyfecjuqmnxakjdrhbz', 'wlpiogsvyfecjuqenmastdrhbz',\n",
    "    'wlpiogyvyfecjuqmuxakldrhbz', 'plpiogovyfecjuvmnxaktdrhbz',\n",
    "    'wlpiogsvyfebjuqmnkakvdrhbz', 'wlziogsvyfhcjuqmngaktdrhbz',\n",
    "    'wlsiogsvyfecjuqmnxaktdrzjz', 'plbiogsvyfecfuqmnxaktdrhbz',\n",
    "    'wfpiogsvyfecjuqknxaktdrhiz', 'wlpiogjbyfecjuqmnxaktprhbz',\n",
    "    'wmpiogsvyrecjcqmnxaktdrhbz', 'wlpiogsyyfecjuqmqxaktdrbbz',\n",
    "    'wlpiogsvyfecjuqknxaetdehbz', 'wlpiogsvyfezjuqmnxakkdhhbz',\n",
    "    'wlpiogsvyfecjjqvnxaktdrhiz', 'wkpiogsvyfucjuqmnxaktdrhbd',\n",
    "    'lliiogsvyfecjuqmnxaktdrhoz', 'wlpiogsvyfecjuqmsxdktdshbz',\n",
    "    'wlprogtvyfecjuqmnxaktvrhbz', 'wlpizgssyffcjuqmnxaktdrhbz',\n",
    "    'wlpioasvyfvcjuqmnxakldrhbz', 'wlpoogsvyyecjuqmnxastdrhbz',\n",
    "    'wlpiognvyfecjuqmnsaktdrhbr', 'wlpiogsoyfecjuqmnxaktdrhho',\n",
    "    'wfpiogsvydecjuqmnxaotdrhbz', 'wlpiogsvqhecjuqmnxaktdrhhz',\n",
    "    'wkpiogsvyfeojuqmnxaktdrqbz', 'wlpiogsvyfeveuqmnxaktdshbz',\n",
    "    'wlpiogbvyfecjuqmexaktdrcbz', 'wlpxogsvyfehjsqmnxaktdrhbz',\n",
    "    'wlpcogsvyfecjuqmnjakttrhbz', 'wlpiogsvvkecjuqmnxaftdrhbz',\n",
    "    'wlpiogsvffecnuqmnxaktdnhbz', 'wlpiogsvyfecjupjnxaktdrhbr',\n",
    "    'wlpqogsvyfecjuqmnxlktdphbz', 'wlpxogsvyfecjvqmnxaktirhbz',\n",
    "    'elpiogsvyfecjuqlnxaqtdrhbz', 'wspiogsvrfecjuqmnxakadrhbz',\n",
    "    'wlpiogsmyfecbuqmnxactdrhbz', 'wlpiogsvyfecauqmnyakzdrhbz',\n",
    "    'wlsiogsvyfecjuqmnxakvdrnbz', 'wlpiogsxyfeijuqmnxakndrhbz',\n",
    "    'wlpiogsvyfecjuumnxakbyrhbz', 'wlpiogsvyfecjuqmnxhktdyhbo',\n",
    "    'wlpiogsvyfecjuqqnxnjtdrhbz', 'wapiogsvyfecjuqmnxoktdrmbz',\n",
    "    'wlpiogsvyfeejvqmnxaktdrubz', 'wlpitgsvyeectuqmnxaktdrhbz',\n",
    "    'alpiogsvyfecjulmnxaktdchbz', 'wlpiogsvyfecjuqmuxoktdrwbz',\n",
    "    'wlpiogsvyfzgjuhmnxaktdrhbz', 'wlpnogsvyfecjuqmdxaktyrhbz',\n",
    "    'wlpiogsvyfecjuqmnxakthrhra', 'wliiogsvyfecluqmnxaktdhhbz',\n",
    "    'wlpiogsvyfecjuymnxaltdrhwz', 'wlpiogsvyfeljuqmnxaktyrhbd',\n",
    "    'wlpiygsvvfecjuqmfxaktdrhbz', 'wlpiogihsfecjuqmnxaktdrhbz',\n",
    "    'wlpiogjvyfecjuqmnhuktdrhbz', 'wldiogsvyfecjiqmwxaktdrhbz',\n",
    "    'wlpiogsvjfecjuqmnxaktdrgbr', 'wlpioisvyfecjuqwnxabtdrhbz',\n",
    "    'wlviogsvyfscjuqmnxqktdrhbz', 'wlpiogsvyfecjuqmuxakbdrubz',\n",
    "    'wlpiogsvyfecjuqmnxmatdrhqz', 'wlpiogsvyfbcjuqwmxaktdrhbz',\n",
    "    'wlpiogsvyfexjuqmnxuxtdrhbz', 'wljiogsvbfecjuqmnxartdrhbz',\n",
    "    'wlpvogsvyfeujuqmnxaktdmhbz', 'wnpiogsvyfekjuqanxaktdrhbz',\n",
    "    'wlprogsvyfecjuqmzxvktdrhbz', 'wkpiogvvyfecjuqmnxaktdrabz',\n",
    "    'wlpiogsvwfecjuqmnxaktkbhbz', 'wlpiogsvyfecjlqmnxtttdrhbz',\n",
    "    'wlpioqsvyfecjuqznxaktyrhbz', 'wlpiogsvyfecjuqmnxnethrhbz',\n",
    "    'wlpiogsyyfgcjuqmnxaktdrhbm', 'wlpiopsvbfecjuqmnxaktdlhbz',\n",
    "    'wloqogsvyfucjuqmnxaktdrhbz', 'wlpiogsvmfecjuqmnxmktdrhtz',\n",
    "    'wlhiogsvyfecjuhmnxaktsrhbz', 'wlpioggvpfecjufmnxaktdrhbz',\n",
    "    'wlpiogsvyfbcjuomnxaktdrhbh', 'wlpmogsvyfecyuqmnxoktdrhbz',\n",
    "    'wlpiogslyfecjuqmnxaptyrhbz', 'tlpiogsnyfecguqmnxaktdrhbz',\n",
    "    'wlpiogsvyfecjuqmnxwktwehbz', 'wlpiogsvgfecjuqmnxaktdrabu',\n",
    "    'wbpiogsvyfecjuqmnxagtdrhoz', 'wlwipgsvyfecjuqmnxaktdrhbu',\n",
    "    'wlpwogsvykeczuqmnxaktdrhbz', 'wlpgogsvwfecjuqmnxcktdrhbz',\n",
    "    'wlpiogsqyfecjuqmrxaktdrrbz', 'wlpiogsvyfecjuqmnxakthrafz',\n",
    "    'wypicgseyfecjuqmnxaktdrhbz', 'wlpiogcvqfecjuqmnxaktdrhzz',\n",
    "    'wlriogsvyfecouqmnkaktdrhbz', 'wlpiogsvyfemjulmnxaktdrhdz',\n",
    "    'flpiogadyfecjuqmnxaktdrhbz', 'wupiogsvyfbvjuqmnxaktdrhbz',\n",
    "    'wlpiogsvyfebjummnxaktdrrbz', 'wjpiogsvyfecjuqmnxaktprybz',\n",
    "    'wlpirgsvyfecjiqmnxaatdrhbz', 'bvpiogsvyfecjuqmnxaktdrhez',\n",
    "    'wlpiogsvyfxcjuqmnxykzdrhbz', 'wlkiwgsqyfecjqqmnxaktdrhbz',\n",
    "    'wepaogsvyfecjxqmnxaktdrhbz', 'wlpiovsvyfecjjqmnxaktdmhbz',\n",
    "    'wlpioysryfecjuqmnxaktdrhiz', 'wlpizjsvyfecjuvmnxaktdrhbz',\n",
    "    'dlpiogsvyfecjucmnxakbdrhbz', 'wlpiogsccfecjrqmnxaktdrhbz',\n",
    "    'wlpioggvyfecpuqmnxagtdrhbz', 'wlpiogsvyfvcjuumlxaktdrhbz',\n",
    "    'wwpiogsryfjcjuqmnxaktdrhbz', 'wlpiogsvyfecjuqynxaktdrogz',\n",
    "    'wlpiogsvyfecjpqmnxskbdrhbz', 'wlpiogsvyfecjuhmfxaktvrhbz',\n",
    "    'wlpiogevyfecjrqmnwaktdrhbz', 'wlpiigsvyfemjuqmnxaktdrhtz',\n",
    "    'wlpcogsvyfecjuqhnxakgdrhbz', 'wupiogsvyfxcjuqmnxaktdrhgz',\n",
    "    'wlsiogsvyfecjuqenxuktdrhbz', 'wlpioglvyfecjujmexaktdrhbz',\n",
    "    'wlriogsvyfeljuqmnxattdrhbz', 'wlpiogsvyfecfuqmhxaktkrhbz',\n",
    "    'wlppogsvyfecjuqmxxabtdrhbz', 'wlniogsvyfevjuqwnxaktdrhbz',\n",
    "    'wlhiogsvyfecjuqmnxactxrhbz', 'ilpiogivyflcjuqmnxaktdrhbz',\n",
    "    'wlpmogsvyfecjuqmnxaktdrlbs', 'wipiogsvyfeqjuqmnxaktrrhbz',\n",
    "    'wvpiogsvyfecjuqknxaktdrrbz', 'wwpioguvyfecxuqmnxaktdrhbz',\n",
    "    'wlpiogsvkfdcjuqmnxaktdzhbz', 'wlpiogfvyfecjuqmnxadtdrhbg',\n",
    "    'wlpiogsvyzefjuqfnxaktdrhbz', 'wlpiogstyfechuqmnxaktdchbz',\n",
    "    'wlpiogszyfedjuqmnxsktdrhbz', 'wzpiozsvyfncjuqmnxaktdrhbz',\n",
    "    'xlpiogsvyfefjuqmnmaktdrhbz', 'wlpiogsvyfebxummnxaktdrhbz',\n",
    "    'wlpiogsgyfecfurmnxaktdrhbz', 'wlpqogsvyfecjuomnxaktdrhbi',\n",
    "    'wlpiogjvufecjuqmnxaktdrhbd', 'wlpiolsvyfecduqmnxaktrrhbz',\n",
    "    'wlpxogsvyfecjuqmnxaktgrhbk', 'wlpiogsfyfncjuqmnxsktdrhbz',\n",
    "    'wlpioggvyfecjufmnxaktdrebz', 'wlpiogsvyfecfujmnxaktdrwbz',\n",
    "    'rlpiogsvyfecjlqmnxaktdqhbz', 'wlpfogsvyfecjuimnxaktfrhbz'\n",
    "]"
   ]
  },
  {
   "cell_type": "markdown",
   "metadata": {},
   "source": [
    "### Part 1"
   ]
  },
  {
   "cell_type": "code",
   "execution_count": 3,
   "metadata": {
    "ExecuteTime": {
     "end_time": "2018-12-08T18:58:12.240280Z",
     "start_time": "2018-12-08T18:58:12.233268Z"
    }
   },
   "outputs": [],
   "source": [
    "count_2 = 0\n",
    "count_3 = 0"
   ]
  },
  {
   "cell_type": "code",
   "execution_count": 4,
   "metadata": {
    "ExecuteTime": {
     "end_time": "2018-12-08T18:58:12.251250Z",
     "start_time": "2018-12-08T18:58:12.242241Z"
    }
   },
   "outputs": [],
   "source": [
    "for i in puzzle_input:\n",
    "    counter = Counter(i)\n",
    "    counter_values = set(counter.values())\n",
    "    if 2 in counter_values:\n",
    "        count_2 += 1\n",
    "    if 3 in counter_values:\n",
    "        count_3 += 1\n",
    "    if counter_values - set([1,2,3]):\n",
    "        print(counter_values)"
   ]
  },
  {
   "cell_type": "code",
   "execution_count": 5,
   "metadata": {
    "ExecuteTime": {
     "end_time": "2018-12-08T18:58:12.268211Z",
     "start_time": "2018-12-08T18:58:12.254210Z"
    }
   },
   "outputs": [
    {
     "data": {
      "text/plain": [
       "7776"
      ]
     },
     "execution_count": 5,
     "metadata": {},
     "output_type": "execute_result"
    }
   ],
   "source": [
    "count_2 * count_3"
   ]
  },
  {
   "cell_type": "markdown",
   "metadata": {},
   "source": [
    "### Part 2"
   ]
  },
  {
   "cell_type": "code",
   "execution_count": 6,
   "metadata": {
    "ExecuteTime": {
     "end_time": "2018-12-08T18:58:12.277187Z",
     "start_time": "2018-12-08T18:58:12.270167Z"
    }
   },
   "outputs": [],
   "source": [
    "small_puzzle_input = [\n",
    "    'abcde',\n",
    "    'fghij',\n",
    "    'klmno',\n",
    "    'pqrst',\n",
    "    'fguij',\n",
    "    'axcye',\n",
    "    'wvxyz',\n",
    "]"
   ]
  },
  {
   "cell_type": "code",
   "execution_count": 7,
   "metadata": {
    "ExecuteTime": {
     "end_time": "2018-12-08T18:58:12.289117Z",
     "start_time": "2018-12-08T18:58:12.279143Z"
    }
   },
   "outputs": [],
   "source": [
    "letter_matrix = puzzle_input\n",
    "number_matrix = np.array([\n",
    "    [ord(char) for char in i]\n",
    "    for i in letter_matrix\n",
    "])"
   ]
  },
  {
   "cell_type": "code",
   "execution_count": 8,
   "metadata": {
    "ExecuteTime": {
     "end_time": "2018-12-08T18:58:12.325032Z",
     "start_time": "2018-12-08T18:58:12.292109Z"
    }
   },
   "outputs": [
    {
     "name": "stdout",
     "output_type": "stream",
     "text": [
      "wlkigsqyfecjqqmnxaktdrhbz\n",
      "wlkiogsqyfecjqqmnxaktdrhbz\n",
      "wlkiwgsqyfecjqqmnxaktdrhbz\n"
     ]
    }
   ],
   "source": [
    "for i in range(len(letter_matrix)):\n",
    "    diff_matrix = number_matrix[i + 1:] - number_matrix[i] \n",
    "\n",
    "    non_zero_coord = np.ndarray.nonzero(diff_matrix)\n",
    "\n",
    "    nz_row = non_zero_coord[0]\n",
    "    nz_col = non_zero_coord[1]\n",
    "\n",
    "    unique, count = np.unique(nz_row, return_counts=True)\n",
    "\n",
    "    if 1 in count:\n",
    "        row = unique[count == 1][0]\n",
    "        col = nz_col[nz_row == row][0]\n",
    "\n",
    "        string_1 = letter_matrix[i]\n",
    "        same_1 = string_1[:col] + string_1[col + 1:]\n",
    "\n",
    "        string_2 = letter_matrix[i+1+row]\n",
    "        same_2 = string_2[:col] + string_2[col + 1:]\n",
    "\n",
    "        if same_1 == same_2:\n",
    "            print(same_1)\n",
    "            print(string_1)\n",
    "            print(string_2)\n",
    "        else:\n",
    "            print('Huh?')\n",
    "            print(same_1)\n",
    "            print(same_2)\n",
    "            print(string_1)\n",
    "            print(string_2)\n",
    "    else:\n",
    "        pass"
   ]
  }
 ],
 "metadata": {
  "kernelspec": {
   "display_name": "Python 3",
   "language": "python",
   "name": "python3"
  },
  "language_info": {
   "codemirror_mode": {
    "name": "ipython",
    "version": 3
   },
   "file_extension": ".py",
   "mimetype": "text/x-python",
   "name": "python",
   "nbconvert_exporter": "python",
   "pygments_lexer": "ipython3",
   "version": "3.7.0"
  },
  "toc": {
   "base_numbering": 1,
   "nav_menu": {},
   "number_sections": true,
   "sideBar": true,
   "skip_h1_title": false,
   "title_cell": "Table of Contents",
   "title_sidebar": "Contents",
   "toc_cell": false,
   "toc_position": {},
   "toc_section_display": true,
   "toc_window_display": false
  },
  "varInspector": {
   "cols": {
    "lenName": 16,
    "lenType": 16,
    "lenVar": 40
   },
   "kernels_config": {
    "python": {
     "delete_cmd_postfix": "",
     "delete_cmd_prefix": "del ",
     "library": "var_list.py",
     "varRefreshCmd": "print(var_dic_list())"
    },
    "r": {
     "delete_cmd_postfix": ") ",
     "delete_cmd_prefix": "rm(",
     "library": "var_list.r",
     "varRefreshCmd": "cat(var_dic_list()) "
    }
   },
   "oldHeight": 122,
   "position": {
    "height": "40px",
    "left": "754px",
    "right": "20px",
    "top": "120px",
    "width": "250px"
   },
   "types_to_exclude": [
    "module",
    "function",
    "builtin_function_or_method",
    "instance",
    "_Feature"
   ],
   "varInspector_section_display": "none",
   "window_display": true
  }
 },
 "nbformat": 4,
 "nbformat_minor": 2
}
