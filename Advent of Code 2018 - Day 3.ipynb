{
 "cells": [
  {
   "cell_type": "markdown",
   "metadata": {},
   "source": [
    "https://adventofcode.com/2018/day/3"
   ]
  },
  {
   "cell_type": "code",
   "execution_count": 1,
   "metadata": {
    "ExecuteTime": {
     "end_time": "2018-12-14T08:40:13.809462Z",
     "start_time": "2018-12-14T08:40:08.091736Z"
    }
   },
   "outputs": [],
   "source": [
    "import numpy as np\n",
    "import pandas as pd"
   ]
  },
  {
   "cell_type": "code",
   "execution_count": 2,
   "metadata": {
    "ExecuteTime": {
     "end_time": "2018-12-14T08:40:14.240983Z",
     "start_time": "2018-12-14T08:40:13.816452Z"
    }
   },
   "outputs": [],
   "source": [
    "puzzle_input = pd.read_csv('day3input.sql', header=None, sep='\\W+|x', engine='python')\n",
    "puzzle_input.columns = ['drop', 'id', 'x', 'y', 'x_length', 'y_length']\n",
    "puzzle_input.drop(labels='drop', axis=1, inplace=True)"
   ]
  },
  {
   "cell_type": "code",
   "execution_count": 3,
   "metadata": {
    "ExecuteTime": {
     "end_time": "2018-12-14T08:40:14.258938Z",
     "start_time": "2018-12-14T08:40:14.254446Z"
    }
   },
   "outputs": [],
   "source": [
    "def area(x,y,x_length,y_length):\n",
    "    full_area = np.zeros((1000,1000))\n",
    "    full_area[y:(y+y_length), x:(x+x_length)] += 1\n",
    "    return full_area    "
   ]
  },
  {
   "cell_type": "code",
   "execution_count": 4,
   "metadata": {
    "ExecuteTime": {
     "end_time": "2018-12-14T08:40:18.915078Z",
     "start_time": "2018-12-14T08:40:18.433253Z"
    }
   },
   "outputs": [],
   "source": [
    "puzzle_input['area'] = puzzle_input.apply(\n",
    "    lambda row: area(row.x, row.y, row.x_length, row.y_length),\n",
    "    axis=1\n",
    ")"
   ]
  },
  {
   "cell_type": "code",
   "execution_count": 5,
   "metadata": {
    "ExecuteTime": {
     "end_time": "2018-12-14T08:40:44.887478Z",
     "start_time": "2018-12-14T08:40:28.432418Z"
    }
   },
   "outputs": [],
   "source": [
    "claim_sum = np.sum(puzzle_input['area'])"
   ]
  },
  {
   "cell_type": "markdown",
   "metadata": {},
   "source": [
    "## Part 1"
   ]
  },
  {
   "cell_type": "code",
   "execution_count": 6,
   "metadata": {
    "ExecuteTime": {
     "end_time": "2018-12-14T08:42:24.298449Z",
     "start_time": "2018-12-14T08:42:24.248542Z"
    }
   },
   "outputs": [
    {
     "data": {
      "text/plain": [
       "96569"
      ]
     },
     "execution_count": 6,
     "metadata": {},
     "output_type": "execute_result"
    }
   ],
   "source": [
    "np.count_nonzero(claim_sum >= 2)"
   ]
  },
  {
   "cell_type": "markdown",
   "metadata": {},
   "source": [
    "## Part 2"
   ]
  },
  {
   "cell_type": "code",
   "execution_count": 8,
   "metadata": {
    "ExecuteTime": {
     "end_time": "2018-12-14T08:45:14.836423Z",
     "start_time": "2018-12-14T08:45:14.831919Z"
    }
   },
   "outputs": [],
   "source": [
    "area_one = (claim_sum == 1)"
   ]
  },
  {
   "cell_type": "code",
   "execution_count": 12,
   "metadata": {
    "ExecuteTime": {
     "end_time": "2018-12-14T08:46:08.767110Z",
     "start_time": "2018-12-14T08:46:08.655641Z"
    }
   },
   "outputs": [
    {
     "data": {
      "text/plain": [
       "array([[0, 0, 0, ..., 0, 0, 0],\n",
       "       [0, 0, 0, ..., 0, 0, 0],\n",
       "       [0, 0, 0, ..., 0, 0, 0],\n",
       "       ...,\n",
       "       [0, 0, 0, ..., 0, 0, 0],\n",
       "       [0, 0, 0, ..., 0, 0, 0],\n",
       "       [0, 0, 0, ..., 0, 0, 0]])"
      ]
     },
     "execution_count": 12,
     "metadata": {},
     "output_type": "execute_result"
    }
   ],
   "source": [
    "area_one*1"
   ]
  },
  {
   "cell_type": "code",
   "execution_count": 19,
   "metadata": {
    "ExecuteTime": {
     "end_time": "2018-12-14T08:48:47.047569Z",
     "start_time": "2018-12-14T08:48:47.029084Z"
    }
   },
   "outputs": [
    {
     "data": {
      "text/plain": [
       "127"
      ]
     },
     "execution_count": 19,
     "metadata": {},
     "output_type": "execute_result"
    }
   ],
   "source": [
    "np.count_nonzero((puzzle_input['area'][3] - area_one) == 1)"
   ]
  },
  {
   "cell_type": "code",
   "execution_count": null,
   "metadata": {
    "ExecuteTime": {
     "start_time": "2018-12-14T08:48:58.558Z"
    }
   },
   "outputs": [],
   "source": [
    "puzzle_input['area_overlap'] = puzzle_input['area'] - area_one"
   ]
  },
  {
   "cell_type": "code",
   "execution_count": null,
   "metadata": {},
   "outputs": [],
   "source": [
    "puzzle_input['is_overlapped'] = [\n",
    "    False if np.count_nonzero(area_overlap == 1) == 0\n",
    "    else True\n",
    "    for area_overlap in puzzle_input['area_overlap']\n",
    "]"
   ]
  }
 ],
 "metadata": {
  "kernelspec": {
   "display_name": "Python 3",
   "language": "python",
   "name": "python3"
  },
  "language_info": {
   "codemirror_mode": {
    "name": "ipython",
    "version": 3
   },
   "file_extension": ".py",
   "mimetype": "text/x-python",
   "name": "python",
   "nbconvert_exporter": "python",
   "pygments_lexer": "ipython3",
   "version": "3.7.0"
  },
  "varInspector": {
   "cols": {
    "lenName": 16,
    "lenType": 16,
    "lenVar": 40
   },
   "kernels_config": {
    "python": {
     "delete_cmd_postfix": "",
     "delete_cmd_prefix": "del ",
     "library": "var_list.py",
     "varRefreshCmd": "print(var_dic_list())"
    },
    "r": {
     "delete_cmd_postfix": ") ",
     "delete_cmd_prefix": "rm(",
     "library": "var_list.r",
     "varRefreshCmd": "cat(var_dic_list()) "
    }
   },
   "types_to_exclude": [
    "module",
    "function",
    "builtin_function_or_method",
    "instance",
    "_Feature"
   ],
   "window_display": true
  }
 },
 "nbformat": 4,
 "nbformat_minor": 2
}
