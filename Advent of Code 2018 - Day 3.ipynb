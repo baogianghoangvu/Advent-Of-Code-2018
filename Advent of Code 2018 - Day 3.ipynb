{
 "cells": [
  {
   "cell_type": "markdown",
   "metadata": {},
   "source": [
    "https://adventofcode.com/2018/day/3"
   ]
  },
  {
   "cell_type": "code",
   "execution_count": 1,
   "metadata": {
    "ExecuteTime": {
     "end_time": "2018-12-14T09:18:14.673917Z",
     "start_time": "2018-12-14T09:18:07.785627Z"
    }
   },
   "outputs": [],
   "source": [
    "import numpy as np\n",
    "import pandas as pd"
   ]
  },
  {
   "cell_type": "code",
   "execution_count": 2,
   "metadata": {
    "ExecuteTime": {
     "end_time": "2018-12-14T09:18:15.138457Z",
     "start_time": "2018-12-14T09:18:14.674900Z"
    }
   },
   "outputs": [],
   "source": [
    "puzzle_input = pd.read_csv('day3input.sql', header=None, sep='\\W+|x', engine='python')\n",
    "puzzle_input.columns = ['drop', 'id', 'x', 'y', 'x_length', 'y_length']\n",
    "puzzle_input.drop(labels='drop', axis=1, inplace=True)"
   ]
  },
  {
   "cell_type": "code",
   "execution_count": 3,
   "metadata": {
    "ExecuteTime": {
     "end_time": "2018-12-14T09:18:15.144417Z",
     "start_time": "2018-12-14T09:18:15.140405Z"
    }
   },
   "outputs": [],
   "source": [
    "def area(x,y,x_length,y_length):\n",
    "    full_area = np.zeros((1000,1000))\n",
    "    full_area[y:(y+y_length), x:(x+x_length)] += 1\n",
    "    return full_area    "
   ]
  },
  {
   "cell_type": "code",
   "execution_count": 4,
   "metadata": {
    "ExecuteTime": {
     "end_time": "2018-12-14T09:18:15.813761Z",
     "start_time": "2018-12-14T09:18:15.146402Z"
    }
   },
   "outputs": [],
   "source": [
    "puzzle_input['area'] = puzzle_input.apply(\n",
    "    lambda row: area(row.x, row.y, row.x_length, row.y_length),\n",
    "    axis=1\n",
    ")"
   ]
  },
  {
   "cell_type": "code",
   "execution_count": 5,
   "metadata": {
    "ExecuteTime": {
     "end_time": "2018-12-14T09:18:36.504788Z",
     "start_time": "2018-12-14T09:18:15.814740Z"
    }
   },
   "outputs": [],
   "source": [
    "claim_sum = np.sum(puzzle_input['area'])"
   ]
  },
  {
   "cell_type": "markdown",
   "metadata": {},
   "source": [
    "## Part 1"
   ]
  },
  {
   "cell_type": "code",
   "execution_count": 6,
   "metadata": {
    "ExecuteTime": {
     "end_time": "2018-12-14T09:18:40.981755Z",
     "start_time": "2018-12-14T09:18:38.340216Z"
    }
   },
   "outputs": [
    {
     "data": {
      "text/plain": [
       "96569"
      ]
     },
     "execution_count": 6,
     "metadata": {},
     "output_type": "execute_result"
    }
   ],
   "source": [
    "np.count_nonzero(claim_sum >= 2)"
   ]
  },
  {
   "cell_type": "markdown",
   "metadata": {},
   "source": [
    "## Part 2"
   ]
  },
  {
   "cell_type": "code",
   "execution_count": 7,
   "metadata": {
    "ExecuteTime": {
     "end_time": "2018-12-14T09:18:41.846585Z",
     "start_time": "2018-12-14T09:18:40.983754Z"
    }
   },
   "outputs": [],
   "source": [
    "area_one = (claim_sum == 1)"
   ]
  },
  {
   "cell_type": "code",
   "execution_count": 8,
   "metadata": {
    "ExecuteTime": {
     "end_time": "2018-12-14T09:22:23.073221Z",
     "start_time": "2018-12-14T09:18:41.849564Z"
    }
   },
   "outputs": [],
   "source": [
    "puzzle_input['is_overlapped'] = [\n",
    "    False if np.count_nonzero((area - area_one) == 1) == 0\n",
    "    else True\n",
    "    for area in puzzle_input['area']\n",
    "]"
   ]
  },
  {
   "cell_type": "code",
   "execution_count": 9,
   "metadata": {
    "ExecuteTime": {
     "end_time": "2018-12-14T09:22:35.240842Z",
     "start_time": "2018-12-14T09:22:25.114554Z"
    }
   },
   "outputs": [
    {
     "data": {
      "text/html": [
       "<div>\n",
       "<style scoped>\n",
       "    .dataframe tbody tr th:only-of-type {\n",
       "        vertical-align: middle;\n",
       "    }\n",
       "\n",
       "    .dataframe tbody tr th {\n",
       "        vertical-align: top;\n",
       "    }\n",
       "\n",
       "    .dataframe thead th {\n",
       "        text-align: right;\n",
       "    }\n",
       "</style>\n",
       "<table border=\"1\" class=\"dataframe\">\n",
       "  <thead>\n",
       "    <tr style=\"text-align: right;\">\n",
       "      <th></th>\n",
       "      <th>id</th>\n",
       "      <th>is_overlapped</th>\n",
       "    </tr>\n",
       "  </thead>\n",
       "  <tbody>\n",
       "    <tr>\n",
       "      <th>1022</th>\n",
       "      <td>1023</td>\n",
       "      <td>False</td>\n",
       "    </tr>\n",
       "  </tbody>\n",
       "</table>\n",
       "</div>"
      ],
      "text/plain": [
       "        id  is_overlapped\n",
       "1022  1023          False"
      ]
     },
     "execution_count": 9,
     "metadata": {},
     "output_type": "execute_result"
    }
   ],
   "source": [
    "puzzle_input[['id', 'is_overlapped']][puzzle_input['is_overlapped'] == False]"
   ]
  }
 ],
 "metadata": {
  "kernelspec": {
   "display_name": "Python 3",
   "language": "python",
   "name": "python3"
  },
  "language_info": {
   "codemirror_mode": {
    "name": "ipython",
    "version": 3
   },
   "file_extension": ".py",
   "mimetype": "text/x-python",
   "name": "python",
   "nbconvert_exporter": "python",
   "pygments_lexer": "ipython3",
   "version": "3.7.0"
  },
  "varInspector": {
   "cols": {
    "lenName": 16,
    "lenType": 16,
    "lenVar": 40
   },
   "kernels_config": {
    "python": {
     "delete_cmd_postfix": "",
     "delete_cmd_prefix": "del ",
     "library": "var_list.py",
     "varRefreshCmd": "print(var_dic_list())"
    },
    "r": {
     "delete_cmd_postfix": ") ",
     "delete_cmd_prefix": "rm(",
     "library": "var_list.r",
     "varRefreshCmd": "cat(var_dic_list()) "
    }
   },
   "types_to_exclude": [
    "module",
    "function",
    "builtin_function_or_method",
    "instance",
    "_Feature"
   ],
   "window_display": true
  }
 },
 "nbformat": 4,
 "nbformat_minor": 2
}
