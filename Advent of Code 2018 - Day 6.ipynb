{
 "cells": [
  {
   "cell_type": "markdown",
   "metadata": {},
   "source": [
    "https://adventofcode.com/2018/day/6"
   ]
  },
  {
   "cell_type": "code",
   "execution_count": 1,
   "metadata": {
    "ExecuteTime": {
     "end_time": "2018-12-16T10:05:36.299241Z",
     "start_time": "2018-12-16T10:05:36.295251Z"
    }
   },
   "outputs": [],
   "source": [
    "import numpy as np"
   ]
  },
  {
   "cell_type": "code",
   "execution_count": 2,
   "metadata": {
    "ExecuteTime": {
     "end_time": "2018-12-16T10:05:37.374833Z",
     "start_time": "2018-12-16T10:05:37.370848Z"
    }
   },
   "outputs": [],
   "source": [
    "with open('day6_input.txt') as file:\n",
    "    puzzle_input = file.read().splitlines()"
   ]
  },
  {
   "cell_type": "code",
   "execution_count": null,
   "metadata": {},
   "outputs": [],
   "source": [
    "small_puzzle_input = 0"
   ]
  },
  {
   "cell_type": "code",
   "execution_count": 3,
   "metadata": {
    "ExecuteTime": {
     "end_time": "2018-12-16T10:05:42.078079Z",
     "start_time": "2018-12-16T10:05:42.064152Z"
    }
   },
   "outputs": [
    {
     "data": {
      "text/plain": [
       "['84, 212',\n",
       " '168, 116',\n",
       " '195, 339',\n",
       " '110, 86',\n",
       " '303, 244',\n",
       " '228, 338',\n",
       " '151, 295',\n",
       " '115, 49',\n",
       " '161, 98',\n",
       " '60, 197',\n",
       " '40, 55',\n",
       " '55, 322',\n",
       " '148, 82',\n",
       " '86, 349',\n",
       " '145, 295',\n",
       " '243, 281',\n",
       " '91, 343',\n",
       " '280, 50',\n",
       " '149, 129',\n",
       " '174, 119',\n",
       " '170, 44',\n",
       " '296, 148',\n",
       " '152, 160',\n",
       " '115, 251',\n",
       " '266, 281',\n",
       " '269, 285',\n",
       " '109, 242',\n",
       " '136, 241',\n",
       " '236, 249',\n",
       " '338, 245',\n",
       " '71, 101',\n",
       " '254, 327',\n",
       " '208, 231',\n",
       " '289, 184',\n",
       " '282, 158',\n",
       " '352, 51',\n",
       " '326, 230',\n",
       " '88, 240',\n",
       " '292, 342',\n",
       " '352, 189',\n",
       " '231, 141',\n",
       " '280, 350',\n",
       " '296, 185',\n",
       " '226, 252',\n",
       " '172, 235',\n",
       " '137, 161',\n",
       " '207, 90',\n",
       " '101, 133',\n",
       " '156, 234',\n",
       " '241, 185']"
      ]
     },
     "execution_count": 3,
     "metadata": {},
     "output_type": "execute_result"
    }
   ],
   "source": [
    "puzzle_input"
   ]
  },
  {
   "cell_type": "code",
   "execution_count": null,
   "metadata": {},
   "outputs": [],
   "source": []
  },
  {
   "cell_type": "markdown",
   "metadata": {},
   "source": [
    "## Part 1"
   ]
  },
  {
   "cell_type": "code",
   "execution_count": null,
   "metadata": {},
   "outputs": [],
   "source": []
  },
  {
   "cell_type": "markdown",
   "metadata": {},
   "source": [
    "## Part 2"
   ]
  },
  {
   "cell_type": "code",
   "execution_count": null,
   "metadata": {},
   "outputs": [],
   "source": []
  }
 ],
 "metadata": {
  "kernelspec": {
   "display_name": "Python 3",
   "language": "python",
   "name": "python3"
  },
  "language_info": {
   "codemirror_mode": {
    "name": "ipython",
    "version": 3
   },
   "file_extension": ".py",
   "mimetype": "text/x-python",
   "name": "python",
   "nbconvert_exporter": "python",
   "pygments_lexer": "ipython3",
   "version": "3.7.0"
  },
  "toc": {
   "base_numbering": 1,
   "nav_menu": {},
   "number_sections": true,
   "sideBar": true,
   "skip_h1_title": false,
   "title_cell": "Table of Contents",
   "title_sidebar": "Contents",
   "toc_cell": false,
   "toc_position": {},
   "toc_section_display": true,
   "toc_window_display": false
  },
  "varInspector": {
   "cols": {
    "lenName": 16,
    "lenType": 16,
    "lenVar": 40
   },
   "kernels_config": {
    "python": {
     "delete_cmd_postfix": "",
     "delete_cmd_prefix": "del ",
     "library": "var_list.py",
     "varRefreshCmd": "print(var_dic_list())"
    },
    "r": {
     "delete_cmd_postfix": ") ",
     "delete_cmd_prefix": "rm(",
     "library": "var_list.r",
     "varRefreshCmd": "cat(var_dic_list()) "
    }
   },
   "types_to_exclude": [
    "module",
    "function",
    "builtin_function_or_method",
    "instance",
    "_Feature"
   ],
   "window_display": true
  }
 },
 "nbformat": 4,
 "nbformat_minor": 2
}
