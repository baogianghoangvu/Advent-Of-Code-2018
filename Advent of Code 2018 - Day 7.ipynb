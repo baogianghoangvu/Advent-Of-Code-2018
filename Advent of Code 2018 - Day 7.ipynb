{
 "cells": [
  {
   "cell_type": "markdown",
   "metadata": {},
   "source": [
    "https://adventofcode.com/2018/day/7"
   ]
  },
  {
   "cell_type": "code",
   "execution_count": 1,
   "metadata": {
    "ExecuteTime": {
     "end_time": "2018-12-16T10:18:48.153281Z",
     "start_time": "2018-12-16T10:18:48.052400Z"
    }
   },
   "outputs": [],
   "source": [
    "import numpy as np"
   ]
  },
  {
   "cell_type": "code",
   "execution_count": 2,
   "metadata": {
    "ExecuteTime": {
     "end_time": "2018-12-16T10:18:48.159115Z",
     "start_time": "2018-12-16T10:18:48.155125Z"
    }
   },
   "outputs": [],
   "source": [
    "with open('day7_input.txt') as file:\n",
    "    puzzle_input = file.read().splitlines()"
   ]
  },
  {
   "cell_type": "code",
   "execution_count": 3,
   "metadata": {
    "ExecuteTime": {
     "end_time": "2018-12-16T10:18:48.168091Z",
     "start_time": "2018-12-16T10:18:48.161108Z"
    }
   },
   "outputs": [],
   "source": [
    "small_puzzle_input = [\n",
    "    \"Step C must be finished before step A can begin.\",\n",
    "    \"Step C must be finished before step F can begin.\",\n",
    "    \"Step A must be finished before step B can begin.\",\n",
    "    \"Step A must be finished before step D can begin.\",\n",
    "    \"Step B must be finished before step E can begin.\",\n",
    "    \"Step D must be finished before step E can begin.\",\n",
    "    \"Step F must be finished before step E can begin.\",\n",
    "]"
   ]
  },
  {
   "cell_type": "code",
   "execution_count": 47,
   "metadata": {
    "ExecuteTime": {
     "end_time": "2018-12-16T10:36:55.336454Z",
     "start_time": "2018-12-16T10:36:55.333435Z"
    }
   },
   "outputs": [],
   "source": [
    "_input = small_puzzle_input\n",
    "remaining_step = set([i[5] for i in _input] + [i[36] for i in _input])\n",
    "finished_step = []"
   ]
  },
  {
   "cell_type": "code",
   "execution_count": 40,
   "metadata": {
    "ExecuteTime": {
     "end_time": "2018-12-16T10:34:41.120325Z",
     "start_time": "2018-12-16T10:34:41.116332Z"
    },
    "scrolled": true
   },
   "outputs": [],
   "source": [
    "pre = np.array([i[5] for i in _input])\n",
    "post = np.array([i[36] for i in _input])"
   ]
  },
  {
   "cell_type": "code",
   "execution_count": null,
   "metadata": {},
   "outputs": [],
   "source": []
  },
  {
   "cell_type": "code",
   "execution_count": 41,
   "metadata": {
    "ExecuteTime": {
     "end_time": "2018-12-16T10:34:42.646756Z",
     "start_time": "2018-12-16T10:34:42.642766Z"
    }
   },
   "outputs": [],
   "source": [
    "available = remaining_step - set(post)"
   ]
  },
  {
   "cell_type": "code",
   "execution_count": 42,
   "metadata": {
    "ExecuteTime": {
     "end_time": "2018-12-16T10:34:59.742470Z",
     "start_time": "2018-12-16T10:34:59.738495Z"
    }
   },
   "outputs": [],
   "source": [
    "finished_step.append(sorted(list(available))[0])"
   ]
  },
  {
   "cell_type": "code",
   "execution_count": 43,
   "metadata": {
    "ExecuteTime": {
     "end_time": "2018-12-16T10:35:03.081987Z",
     "start_time": "2018-12-16T10:35:03.076003Z"
    }
   },
   "outputs": [
    {
     "data": {
      "text/plain": [
       "['C']"
      ]
     },
     "execution_count": 43,
     "metadata": {},
     "output_type": "execute_result"
    }
   ],
   "source": [
    "finished_step"
   ]
  },
  {
   "cell_type": "code",
   "execution_count": 6,
   "metadata": {
    "ExecuteTime": {
     "end_time": "2018-12-16T10:18:48.204990Z",
     "start_time": "2018-12-16T10:18:48.189035Z"
    },
    "scrolled": true
   },
   "outputs": [
    {
     "data": {
      "text/plain": [
       "[['U', 'R'],\n",
       " ['C', 'B'],\n",
       " ['A', 'S'],\n",
       " ['E', 'O'],\n",
       " ['D', 'Z'],\n",
       " ['L', 'X'],\n",
       " ['S', 'F'],\n",
       " ['B', 'J'],\n",
       " ['Z', 'T'],\n",
       " ['X', 'W'],\n",
       " ['K', 'T'],\n",
       " ['M', 'H'],\n",
       " ['I', 'W'],\n",
       " ['T', 'J'],\n",
       " ['N', 'O'],\n",
       " ['F', 'G'],\n",
       " ['W', 'P'],\n",
       " ['G', 'V'],\n",
       " ['Y', 'V'],\n",
       " ['J', 'V'],\n",
       " ['V', 'R'],\n",
       " ['P', 'H'],\n",
       " ['O', 'R'],\n",
       " ['H', 'R'],\n",
       " ['R', 'Q'],\n",
       " ['L', 'O'],\n",
       " ['V', 'H'],\n",
       " ['X', 'K'],\n",
       " ['D', 'N'],\n",
       " ['C', 'P'],\n",
       " ['E', 'I'],\n",
       " ['P', 'O'],\n",
       " ['T', 'F'],\n",
       " ['U', 'K'],\n",
       " ['A', 'O'],\n",
       " ['G', 'O'],\n",
       " ['A', 'W'],\n",
       " ['G', 'Q'],\n",
       " ['U', 'J'],\n",
       " ['V', 'O'],\n",
       " ['J', 'Q'],\n",
       " ['X', 'G'],\n",
       " ['B', 'Y'],\n",
       " ['J', 'R'],\n",
       " ['B', 'F'],\n",
       " ['K', 'F'],\n",
       " ['S', 'Z'],\n",
       " ['T', 'H'],\n",
       " ['W', 'R'],\n",
       " ['I', 'N'],\n",
       " ['Z', 'R'],\n",
       " ['J', 'O'],\n",
       " ['M', 'R'],\n",
       " ['Y', 'J'],\n",
       " ['E', 'J'],\n",
       " ['T', 'G'],\n",
       " ['T', 'V'],\n",
       " ['M', 'O'],\n",
       " ['C', 'J'],\n",
       " ['D', 'O'],\n",
       " ['F', 'P'],\n",
       " ['H', 'Q'],\n",
       " ['F', 'J'],\n",
       " ['Z', 'P'],\n",
       " ['T', 'O'],\n",
       " ['Z', 'M'],\n",
       " ['U', 'H'],\n",
       " ['W', 'J'],\n",
       " ['L', 'Y'],\n",
       " ['A', 'T'],\n",
       " ['M', 'V'],\n",
       " ['O', 'Q'],\n",
       " ['N', 'J'],\n",
       " ['A', 'V'],\n",
       " ['K', 'G'],\n",
       " ['N', 'F'],\n",
       " ['B', 'T'],\n",
       " ['I', 'H'],\n",
       " ['V', 'P'],\n",
       " ['E', 'T'],\n",
       " ['E', 'G'],\n",
       " ['U', 'L'],\n",
       " ['X', 'P'],\n",
       " ['L', 'R'],\n",
       " ['Y', 'O'],\n",
       " ['K', 'O'],\n",
       " ['Z', 'I'],\n",
       " ['P', 'R'],\n",
       " ['A', 'X'],\n",
       " ['O', 'H'],\n",
       " ['C', 'D'],\n",
       " ['D', 'F'],\n",
       " ['X', 'H'],\n",
       " ['D', 'Y'],\n",
       " ['Y', 'P'],\n",
       " ['E', 'V'],\n",
       " ['K', 'H'],\n",
       " ['M', 'G'],\n",
       " ['L', 'I'],\n",
       " ['D', 'K'],\n",
       " ['D', 'M']]"
      ]
     },
     "execution_count": 6,
     "metadata": {},
     "output_type": "execute_result"
    }
   ],
   "source": [
    "_input"
   ]
  },
  {
   "cell_type": "code",
   "execution_count": null,
   "metadata": {},
   "outputs": [],
   "source": []
  },
  {
   "cell_type": "markdown",
   "metadata": {},
   "source": [
    "## Part 1"
   ]
  },
  {
   "cell_type": "code",
   "execution_count": null,
   "metadata": {},
   "outputs": [],
   "source": []
  },
  {
   "cell_type": "markdown",
   "metadata": {},
   "source": [
    "## Part 2"
   ]
  },
  {
   "cell_type": "code",
   "execution_count": null,
   "metadata": {},
   "outputs": [],
   "source": []
  }
 ],
 "metadata": {
  "kernelspec": {
   "display_name": "Python 3",
   "language": "python",
   "name": "python3"
  },
  "language_info": {
   "codemirror_mode": {
    "name": "ipython",
    "version": 3
   },
   "file_extension": ".py",
   "mimetype": "text/x-python",
   "name": "python",
   "nbconvert_exporter": "python",
   "pygments_lexer": "ipython3",
   "version": "3.7.0"
  },
  "toc": {
   "base_numbering": 1,
   "nav_menu": {},
   "number_sections": true,
   "sideBar": true,
   "skip_h1_title": false,
   "title_cell": "Table of Contents",
   "title_sidebar": "Contents",
   "toc_cell": false,
   "toc_position": {},
   "toc_section_display": true,
   "toc_window_display": false
  },
  "varInspector": {
   "cols": {
    "lenName": 16,
    "lenType": 16,
    "lenVar": 40
   },
   "kernels_config": {
    "python": {
     "delete_cmd_postfix": "",
     "delete_cmd_prefix": "del ",
     "library": "var_list.py",
     "varRefreshCmd": "print(var_dic_list())"
    },
    "r": {
     "delete_cmd_postfix": ") ",
     "delete_cmd_prefix": "rm(",
     "library": "var_list.r",
     "varRefreshCmd": "cat(var_dic_list()) "
    }
   },
   "types_to_exclude": [
    "module",
    "function",
    "builtin_function_or_method",
    "instance",
    "_Feature"
   ],
   "window_display": true
  }
 },
 "nbformat": 4,
 "nbformat_minor": 2
}
